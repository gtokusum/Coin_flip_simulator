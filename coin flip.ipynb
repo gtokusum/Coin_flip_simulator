{
 "cells": [
  {
   "cell_type": "code",
   "execution_count": 10,
   "metadata": {},
   "outputs": [
    {
     "name": "stdout",
     "output_type": "stream",
     "text": [
      "How many times would you like to flip: a\n",
      "How many times would you like to flip: -1\n",
      "How many times would you like to flip: 0\n",
      "How many times would you like to flip: 10\n",
      "number of heads:  7\n",
      "number of tails:  3\n"
     ]
    }
   ],
   "source": [
    "import random \n",
    "def flips():\n",
    "    heads_count = [] #empty lists for counts\n",
    "    tails_count = []\n",
    "    while True:\n",
    "        \n",
    "        times = input(\"How many times would you like to flip: \")\n",
    "        #making sure user inputs integer above zero\n",
    "        try:   \n",
    "            if int(times) == 0 or times == type(str) or int(times) < 0:\n",
    "                continue\n",
    "        except:\n",
    "            continue\n",
    "        else:\n",
    "            #simulating flips and appending to lists\n",
    "            y=int(times)\n",
    "            while y > 0:\n",
    "                flip = random.randint(0,1)\n",
    "                if flip == 0:\n",
    "                    heads_count.append(1)\n",
    "                    y -= 1\n",
    "                else:\n",
    "                    tails_count.append(1)\n",
    "                    y -= 1\n",
    "        #printing count of heads and tails\n",
    "        print(\"number of heads: \", len(heads_count))\n",
    "        print(\"number of tails: \", len(tails_count))\n",
    "        break\n",
    "\n",
    "if __name__ == \"__main__\":\n",
    "    flips()"
   ]
  },
  {
   "cell_type": "code",
   "execution_count": null,
   "metadata": {},
   "outputs": [],
   "source": []
  }
 ],
 "metadata": {
  "kernelspec": {
   "display_name": "Python 3",
   "language": "python",
   "name": "python3"
  },
  "language_info": {
   "codemirror_mode": {
    "name": "ipython",
    "version": 3
   },
   "file_extension": ".py",
   "mimetype": "text/x-python",
   "name": "python",
   "nbconvert_exporter": "python",
   "pygments_lexer": "ipython3",
   "version": "3.7.4"
  }
 },
 "nbformat": 4,
 "nbformat_minor": 2
}
